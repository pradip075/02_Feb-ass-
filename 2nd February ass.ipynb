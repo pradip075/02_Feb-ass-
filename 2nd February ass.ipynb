{
 "cells": [
  {
   "cell_type": "code",
   "execution_count": null,
   "id": "4dd0d41b-216b-4edf-a53f-266346fac95d",
   "metadata": {},
   "outputs": [],
   "source": [
    "1). The for loop is used when we already know the number of iterations,\n",
    "which means when we know how many times a statement has to be executed.\n",
    "For example, if we want to check the grade of every student in the class, \n",
    "we loop from 1 to that number. When the number of times is not known before hand, we use a \"While\" loop.\n",
    "\n",
    " A \"While\" Loop is used to repeat a specific block of code an unknown number of times,\n",
    "until a condition is met. For example, if we want to ask a user for a number between \n",
    "1 and 10, we don't know how many times the user may enter a larger number, so we keep \n",
    "asking \"while the number is not between 1 and 10\".\n"
   ]
  },
  {
   "cell_type": "code",
   "execution_count": null,
   "id": "e89ca189-6c98-463c-afb1-6eb58365f819",
   "metadata": {},
   "outputs": [],
   "source": [
    "#Write a python program to print the sum and product of the first 10 natural numbers using while loop."
   ]
  },
  {
   "cell_type": "code",
   "execution_count": 1,
   "id": "86209ce2-5f65-463d-9bad-279f27650f5d",
   "metadata": {},
   "outputs": [
    {
     "name": "stdout",
     "output_type": "stream",
     "text": [
      "=====The First Natural Number==== \n",
      "1\n",
      "2\n",
      "3\n",
      "4\n",
      "5\n",
      "6\n",
      "7\n",
      "8\n",
      "9\n",
      "10\n"
     ]
    }
   ],
   "source": [
    "print (\"=====The First Natural Number==== \")\n",
    "for i in range(1,11):\n",
    "    print (i)"
   ]
  },
  {
   "cell_type": "code",
   "execution_count": 2,
   "id": "c72e5e93-823f-48c4-a511-c4c8c0fe84e0",
   "metadata": {},
   "outputs": [
    {
     "data": {
      "text/plain": [
       "55"
      ]
     },
     "execution_count": 2,
     "metadata": {},
     "output_type": "execute_result"
    }
   ],
   "source": [
    "num = 10\n",
    "starting_point = 0 \n",
    "counter = 1\n",
    "\n",
    "while counter <= num :\n",
    "    starting_point = starting_point + counter\n",
    "    counter = counter + 1\n",
    "starting_point"
   ]
  },
  {
   "cell_type": "code",
   "execution_count": 3,
   "id": "fbe901b4-8b50-44bc-8ce7-f018fc99df06",
   "metadata": {
    "scrolled": true,
    "tags": []
   },
   "outputs": [
    {
     "data": {
      "text/plain": [
       "3628800"
      ]
     },
     "execution_count": 3,
     "metadata": {},
     "output_type": "execute_result"
    }
   ],
   "source": [
    "factorial = 1 \n",
    "while num > 0 :\n",
    "    factorial = factorial*num\n",
    "    num = num-1\n",
    "factorial"
   ]
  },
  {
   "cell_type": "code",
   "execution_count": null,
   "id": "5a0b2d6f-83a0-4eaf-a3a8-08da6db139d7",
   "metadata": {},
   "outputs": [],
   "source": [
    "#Write a python program to print the sum and product of the first 10 natural numbers using for loop."
   ]
  },
  {
   "cell_type": "code",
   "execution_count": 4,
   "id": "0e8a0ff0-c83f-4a07-81a0-2ea7bf9860fc",
   "metadata": {},
   "outputs": [
    {
     "name": "stdout",
     "output_type": "stream",
     "text": [
      "55\n"
     ]
    }
   ],
   "source": [
    "num=10\n",
    "sum = 0\n",
    "for i in range(num+1):\n",
    "  sum+=i\n",
    "print(sum)"
   ]
  },
  {
   "cell_type": "code",
   "execution_count": 5,
   "id": "684149d7-4f8a-460c-a383-313c29edd830",
   "metadata": {},
   "outputs": [
    {
     "name": "stdout",
     "output_type": "stream",
     "text": [
      "0\n"
     ]
    }
   ],
   "source": [
    "num =10\n",
    "product = 0\n",
    "for i in range(1,9):\n",
    "    product=product*num\n",
    "print (product)"
   ]
  },
  {
   "cell_type": "code",
   "execution_count": 6,
   "id": "e26aad0f-a36c-40e6-b0d2-0b0ce3c0e9b6",
   "metadata": {},
   "outputs": [
    {
     "name": "stdin",
     "output_type": "stream",
     "text": [
      "ENTER YOUR UNIT 310\n"
     ]
    },
    {
     "name": "stdout",
     "output_type": "stream",
     "text": [
      "2250.011\n"
     ]
    }
   ],
   "source": [
    "unit = int (input(\"ENTER YOUR UNIT\"))\n",
    "if unit <=100:\n",
    "    p=unit * 4.5\n",
    "    print (p)\n",
    "elif unit <=200:\n",
    "    p=unit * 5.25\n",
    "    print (p)\n",
    "elif unit <=300:\n",
    "    p= unit * 6.834\n",
    "    print (p)\n",
    "elif unit >300:\n",
    "    p = unit*7.2581\n",
    "\n",
    "    print (p)\n",
    "\n",
    "else:\n",
    "    print (\"enter valid number \")"
   ]
  },
  {
   "cell_type": "code",
   "execution_count": null,
   "id": "da2b7f69-c383-4d73-8379-671c60a5a171",
   "metadata": {},
   "outputs": [],
   "source": [
    "#Create a list of numbers from 1 to 100. Use for loop and while loop to calculate the cube of each\n",
    "number and if the cube of that number is divisible by 4 or 5 then append that number in a list and print\n",
    "that list."
   ]
  },
  {
   "cell_type": "code",
   "execution_count": 10,
   "id": "2355e2a4-6e3d-49ab-bf5b-a1e55bcfc5a4",
   "metadata": {},
   "outputs": [
    {
     "name": "stdout",
     "output_type": "stream",
     "text": [
      "1\n",
      "2\n",
      "3\n",
      "4\n",
      "5\n",
      "6\n",
      "7\n",
      "8\n",
      "9\n",
      "10\n",
      "11\n",
      "12\n",
      "13\n",
      "14\n",
      "15\n",
      "16\n",
      "17\n",
      "18\n",
      "19\n",
      "20\n",
      "21\n",
      "22\n",
      "23\n",
      "24\n",
      "25\n",
      "26\n",
      "27\n",
      "28\n",
      "29\n",
      "30\n",
      "31\n",
      "32\n",
      "33\n",
      "34\n",
      "35\n",
      "36\n",
      "37\n",
      "38\n",
      "39\n",
      "40\n",
      "41\n",
      "42\n",
      "43\n",
      "44\n",
      "45\n",
      "46\n",
      "47\n",
      "48\n",
      "49\n",
      "50\n",
      "51\n",
      "52\n",
      "53\n",
      "54\n",
      "55\n",
      "56\n",
      "57\n",
      "58\n",
      "59\n",
      "60\n",
      "61\n",
      "62\n",
      "63\n",
      "64\n",
      "65\n",
      "66\n",
      "67\n",
      "68\n",
      "69\n",
      "70\n",
      "71\n",
      "72\n",
      "73\n",
      "74\n",
      "75\n",
      "76\n",
      "77\n",
      "78\n",
      "79\n",
      "80\n",
      "81\n",
      "82\n",
      "83\n",
      "84\n",
      "85\n",
      "86\n",
      "87\n",
      "88\n",
      "89\n",
      "90\n",
      "91\n",
      "92\n",
      "93\n",
      "94\n",
      "95\n",
      "96\n",
      "97\n",
      "98\n",
      "99\n",
      "100\n"
     ]
    }
   ],
   "source": [
    "list = []\n",
    "\n",
    "for i in range(1, 101):\n",
    "    print (i)"
   ]
  },
  {
   "cell_type": "code",
   "execution_count": 19,
   "id": "ecf6a637-3bf5-4aed-92ab-73200f5b68d0",
   "metadata": {},
   "outputs": [
    {
     "name": "stdout",
     "output_type": "stream",
     "text": [
      "1\n",
      "8\n",
      "27\n",
      "64\n",
      "125\n",
      "216\n",
      "343\n",
      "512\n",
      "729\n",
      "1000\n",
      "1331\n",
      "1728\n",
      "2197\n",
      "2744\n",
      "3375\n",
      "4096\n",
      "4913\n",
      "5832\n",
      "6859\n",
      "8000\n",
      "9261\n",
      "10648\n",
      "12167\n",
      "13824\n",
      "15625\n",
      "17576\n",
      "19683\n",
      "21952\n",
      "24389\n",
      "27000\n",
      "29791\n",
      "32768\n",
      "35937\n",
      "39304\n",
      "42875\n",
      "46656\n",
      "50653\n",
      "54872\n",
      "59319\n",
      "64000\n",
      "68921\n",
      "74088\n",
      "79507\n",
      "85184\n",
      "91125\n",
      "97336\n",
      "103823\n",
      "110592\n",
      "117649\n",
      "125000\n",
      "132651\n",
      "140608\n",
      "148877\n",
      "157464\n",
      "166375\n",
      "175616\n",
      "185193\n",
      "195112\n",
      "205379\n",
      "216000\n",
      "226981\n",
      "238328\n",
      "250047\n",
      "262144\n",
      "274625\n",
      "287496\n",
      "300763\n",
      "314432\n",
      "328509\n",
      "343000\n",
      "357911\n",
      "373248\n",
      "389017\n",
      "405224\n",
      "421875\n",
      "438976\n",
      "456533\n",
      "474552\n",
      "493039\n",
      "512000\n",
      "531441\n",
      "551368\n",
      "571787\n",
      "592704\n",
      "614125\n",
      "636056\n",
      "658503\n",
      "681472\n",
      "704969\n",
      "729000\n",
      "753571\n",
      "778688\n",
      "804357\n",
      "830584\n",
      "857375\n",
      "884736\n",
      "912673\n",
      "941192\n",
      "970299\n",
      "1000000\n"
     ]
    }
   ],
   "source": [
    "cube=[]\n",
    "for i in range(1,101):\n",
    "    i = i**3\n",
    "    print(i)\n"
   ]
  }
 ],
 "metadata": {
  "kernelspec": {
   "display_name": "Python 3 (ipykernel)",
   "language": "python",
   "name": "python3"
  },
  "language_info": {
   "codemirror_mode": {
    "name": "ipython",
    "version": 3
   },
   "file_extension": ".py",
   "mimetype": "text/x-python",
   "name": "python",
   "nbconvert_exporter": "python",
   "pygments_lexer": "ipython3",
   "version": "3.10.6"
  }
 },
 "nbformat": 4,
 "nbformat_minor": 5
}
